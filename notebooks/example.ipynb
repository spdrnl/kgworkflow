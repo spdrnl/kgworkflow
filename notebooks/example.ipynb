{
 "cells": [
  {
   "cell_type": "code",
   "id": "initial_id",
   "metadata": {
    "ExecuteTime": {
     "end_time": "2025-10-09T11:22:17.029232Z",
     "start_time": "2025-10-09T11:22:16.998519Z"
    }
   },
   "source": [
    "%load_ext autoreload\n",
    "%autoreload 2"
   ],
   "outputs": [],
   "execution_count": 1
  },
  {
   "metadata": {
    "ExecuteTime": {
     "end_time": "2025-10-09T11:22:19.161062Z",
     "start_time": "2025-10-09T11:22:19.153858Z"
    }
   },
   "cell_type": "code",
   "source": [
    "import os\n",
    "import sys\n",
    "module_path = os.path.abspath(os.path.join('../src'))\n",
    "if module_path not in sys.path:\n",
    "    sys.path.append(module_path)"
   ],
   "id": "8e3f02ff3b13518",
   "outputs": [],
   "execution_count": 2
  },
  {
   "metadata": {
    "ExecuteTime": {
     "end_time": "2025-10-09T11:22:21.992009Z",
     "start_time": "2025-10-09T11:22:21.721525Z"
    }
   },
   "cell_type": "code",
   "source": [
    "from kgworkflow.util.helper import get_sparql\n",
    "\n",
    "print(get_sparql(\"../src/resources/sparql/zebra.sparql\"))"
   ],
   "id": "66ae89dff56bdbd4",
   "outputs": [
    {
     "name": "stdout",
     "output_type": "stream",
     "text": [
      "PREFIX : <http://folk.uio.no/martige/what/2012/04/22/zebra#>\n",
      "PREFIX rdfs: <http://www.w3.org/2000/01/rdf-schema#>\n",
      "PREFIX rdf:  <http://www.w3.org/1999/02/22-rdf-syntax-ns#>\n",
      "\n",
      "SELECT ?owner\n",
      "WHERE {\n",
      "    ?owner :hasPet :Zebra .\n",
      "}\n"
     ]
    }
   ],
   "execution_count": 3
  }
 ],
 "metadata": {
  "kernelspec": {
   "display_name": "Python 3",
   "language": "python",
   "name": "python3"
  },
  "language_info": {
   "codemirror_mode": {
    "name": "ipython",
    "version": 2
   },
   "file_extension": ".py",
   "mimetype": "text/x-python",
   "name": "python",
   "nbconvert_exporter": "python",
   "pygments_lexer": "ipython2",
   "version": "2.7.6"
  }
 },
 "nbformat": 4,
 "nbformat_minor": 5
}
