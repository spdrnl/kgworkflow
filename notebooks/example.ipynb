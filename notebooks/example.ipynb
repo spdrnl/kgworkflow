{
 "cells": [
  {
   "metadata": {
    "ExecuteTime": {
     "end_time": "2025-10-15T10:15:18.830717Z",
     "start_time": "2025-10-15T10:15:18.818965Z"
    }
   },
   "cell_type": "code",
   "source": [
    "import os\n",
    "import sys\n",
    "\n",
    "# Add local src folder to Python path\n",
    "module_path = os.path.abspath(os.path.join('../src'))\n",
    "if module_path not in sys.path:\n",
    "    sys.path.append(module_path)\n",
    "from kgworkflow.helpers.sparql_helper import read_sparql"
   ],
   "id": "a3a07096c9579a8e",
   "outputs": [],
   "execution_count": 7
  },
  {
   "metadata": {
    "ExecuteTime": {
     "end_time": "2025-10-15T10:15:21.104206Z",
     "start_time": "2025-10-15T10:15:21.091717Z"
    }
   },
   "cell_type": "code",
   "source": [
    "# This makes sure that changes to the source code are detected by Jupyter (might want to reimport after changes)\n",
    "%load_ext autoreload\n",
    "%autoreload 2"
   ],
   "id": "169cde2dcbeb0fe1",
   "outputs": [
    {
     "name": "stdout",
     "output_type": "stream",
     "text": [
      "The autoreload extension is already loaded. To reload it, use:\n",
      "  %reload_ext autoreload\n"
     ]
    }
   ],
   "execution_count": 8
  },
  {
   "metadata": {
    "ExecuteTime": {
     "end_time": "2025-10-15T10:15:23.634380Z",
     "start_time": "2025-10-15T10:15:23.622267Z"
    }
   },
   "cell_type": "code",
   "source": "print(read_sparql(\"../input/sparql/zebra.sparql\"))",
   "id": "1c198efdae9255fc",
   "outputs": [
    {
     "name": "stdout",
     "output_type": "stream",
     "text": [
      "PREFIX : <http://folk.uio.no/martige/what/2012/04/22/zebra#>\n",
      "PREFIX rdfs: <http://www.w3.org/2000/01/rdf-schema#>\n",
      "PREFIX rdf:  <http://www.w3.org/1999/02/22-rdf-syntax-ns#>\n",
      "\n",
      "SELECT ?owner\n",
      "WHERE {\n",
      "    ?owner :hasPet :Zebra .\n",
      "}\n"
     ]
    }
   ],
   "execution_count": 9
  }
 ],
 "metadata": {
  "kernelspec": {
   "display_name": "Python 3",
   "language": "python",
   "name": "python3"
  },
  "language_info": {
   "codemirror_mode": {
    "name": "ipython",
    "version": 2
   },
   "file_extension": ".py",
   "mimetype": "text/x-python",
   "name": "python",
   "nbconvert_exporter": "python",
   "pygments_lexer": "ipython2",
   "version": "2.7.6"
  }
 },
 "nbformat": 4,
 "nbformat_minor": 5
}
